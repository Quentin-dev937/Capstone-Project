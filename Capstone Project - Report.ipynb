{
 "cells": [
  {
   "cell_type": "markdown",
   "metadata": {},
   "source": [
    "# Capstone Project: Comparison of Montreal and Paris"
   ]
  },
  {
   "cell_type": "markdown",
   "metadata": {},
   "source": [
    "###  1. Introduction and discussion background"
   ]
  },
  {
   "cell_type": "markdown",
   "metadata": {},
   "source": [
    "In this project, I try to compare two cities which are Paris and Montreal. \n",
    "Both of those cities have a troumendous cultural background, and where Paris is the capital and main city of France, Montreal is the largest city of Quebec and its \"cultural capital\".\n",
    "\n",
    "In order to get a good understanding of the dynamics and the structure of the two cities, a comparison between the neighborhood and what each of them provide is a good start.\n",
    "\n",
    "However, comparing two city can be very tricky. For exemple, Montreal is 3 times the size of Paris but its population density is 1/5 of Paris.\n",
    "Another tricky part is to determine the criterion to use for the comparison. In this report, there is two. The first one is Museum related and the second one is Bar related. As cultural places, both Montreal and Paris are supposed to have lot of them.\n",
    "\n",
    "Thinking of the business outcome, the results can get an interess from touristic compagnies that would like to refine their data. Their can be also an interess from sociological and history department from universities.\n",
    "\n"
   ]
  },
  {
   "cell_type": "markdown",
   "metadata": {},
   "source": [
    "### 2. Data description"
   ]
  },
  {
   "cell_type": "markdown",
   "metadata": {},
   "source": [
    "In order to complete this project, the following data comes from:\n",
    "\n",
    "- open data Paris & portail données ouvertes Montreal, which are websites that contain official datas of the boroughs and the neighborhood of Paris and Montreal. The data are mainly to get the name of the borough and the neighborhood. They contain also some additional features such as area or perimeters.\n",
    "\n",
    "\n",
    "- wikipedia to obtain complementary informations about the neighborhoods such as area or density population.\n",
    "\n",
    "\n",
    "- FourSquare to get the venues for the each neighborhood of the two cities.\n",
    "\n",
    "\n",
    "- Geopy was very usefull for getting the coordinate of the neighborhoods and the boroughs."
   ]
  },
  {
   "cell_type": "markdown",
   "metadata": {},
   "source": [
    "### 3. Methodology"
   ]
  },
  {
   "cell_type": "markdown",
   "metadata": {},
   "source": [
    "The two analysis were performed on two separated Jupyter Notebook, one for Montreal and one for Paris, in order to obtain a better clarity.\n"
   ]
  },
  {
   "cell_type": "markdown",
   "metadata": {},
   "source": [
    "The main goal was to create a dataframe including the *number*, the *name*, the *latitude* and *longitude*, the *area* for each borough and neighborhood of Paris and Montreal. The area size help me to create a \"circle area\" for the boroughs to get a better understanding of them."
   ]
  },
  {
   "cell_type": "markdown",
   "metadata": {},
   "source": [
    "Montreal and Paris are similar in the number of borough (19 and 20 respectively) and neighbordhood (77 and 80 respectively).\n",
    "However, the shape and the repartition of the are quite different: as the boroughs of Paris seems organized (the number of the boroughs increases from center), the borough of Montreal seemns randomly disributed.\n"
   ]
  },
  {
   "cell_type": "markdown",
   "metadata": {},
   "source": [
    "#### 3.1 Maping the cities"
   ]
  },
  {
   "cell_type": "markdown",
   "metadata": {},
   "source": [
    "The Folium librairy from Python was used to create maps of the two cities, for the boroughs and the neighborhoods."
   ]
  },
  {
   "cell_type": "markdown",
   "metadata": {},
   "source": [
    "![alt text](https://github.com/Quentin-dev937/Capstone-Project/blob/master/Montreal_borough_2.png?raw=true) ![alt text](https://github.com/Quentin-dev937/Capstone-Project/blob/master/Paris_borough_2.png?raw=true)\n",
    "\n"
   ]
  },
  {
   "cell_type": "markdown",
   "metadata": {},
   "source": [
    "In Paris, the boroughs also increase in size as we move from the center of the city."
   ]
  },
  {
   "cell_type": "markdown",
   "metadata": {},
   "source": [
    "Now, let's take a look at the neighborhoods of the two cities. As previously mentionned, Montreal and Paris have almost the same number of borough. However the number of neighborhood for each borough is quite variable in montreal as a borough can contain between 1 to 9 neighborhood."
   ]
  },
  {
   "cell_type": "markdown",
   "metadata": {},
   "source": [
    "![alt text](https://github.com/Quentin-dev937/Capstone-Project/blob/master/Montreal_borough_count.png?raw=true)\n",
    "\n",
    "as for Paris, all the boroughs contain the same number of neighborhood, 4.\n",
    "\n",
    "![alt text](https://github.com/Quentin-dev937/Capstone-Project/blob/master/paris_borough_count.png?raw=true)"
   ]
  },
  {
   "cell_type": "markdown",
   "metadata": {},
   "source": [
    "Here is the representation of all the nighborhood of the two cities. \n",
    "The circle markers for the neightborhood of Montreal have the same size for a better representation, as Montreal is very large and some of the neighborhoods are very close to each other."
   ]
  },
  {
   "cell_type": "markdown",
   "metadata": {},
   "source": [
    "![alt text](https://github.com/Quentin-dev937/Capstone-Project/blob/master/Montreal_neighborhood.png?raw=true)\n",
    "![alt text](https://github.com/Quentin-dev937/Capstone-Project/blob/master/Paris_neighborhood.png?raw=true)"
   ]
  },
  {
   "cell_type": "markdown",
   "metadata": {},
   "source": [
    "#### 3.2 Exploring the neighborhoods"
   ]
  },
  {
   "cell_type": "markdown",
   "metadata": {},
   "source": [
    "Foursquare API was used to explore the neighborhoods. The distance limit from the coordonate from each neighborhood was a circle with a radius of 750 meters and the number of venues was limited to 50. The query were \"Museum\" and \"Bars\"."
   ]
  },
  {
   "cell_type": "markdown",
   "metadata": {},
   "source": [
    "For both cities, the number of venues per neighborhood were limited to 5."
   ]
  },
  {
   "cell_type": "markdown",
   "metadata": {},
   "source": [
    "Here is the data:\n",
    "\n",
    "For Montreal\n",
    "\n",
    "![alt text](https://github.com/Quentin-dev937/Capstone-Project/blob/master/Montreal_neighborhood_venues.png?raw=true)\n",
    "\n",
    "For Paris:\n",
    "\n",
    "![alt text](https://github.com/Quentin-dev937/Capstone-Project/blob/master/Paris_neighborhood_venues.png?raw=true)"
   ]
  },
  {
   "cell_type": "markdown",
   "metadata": {},
   "source": [
    "In order to segment and divide the neighborhoods into clusters, the K-mean algotrithm was used with a targeted number of clusters of 3."
   ]
  },
  {
   "cell_type": "markdown",
   "metadata": {},
   "source": [
    "### 4. Results"
   ]
  },
  {
   "cell_type": "markdown",
   "metadata": {},
   "source": [
    "#### 4.2 Looking at the Neighborhoods from Montreal and Paris that have Museum."
   ]
  },
  {
   "cell_type": "markdown",
   "metadata": {},
   "source": [
    "For Montreal, only a few neighborhoods contains Museum and they are mostly located around the old Montreal. \n",
    "Those neighborhoods have been grouped in 3 clusters (red-number 0 , purple-number 1, green-number 2) with the algorithm K-means. According to the algorithm, there is no pattern associated to the location of a particuliar Museum."
   ]
  },
  {
   "cell_type": "markdown",
   "metadata": {},
   "source": [
    "![alt text](https://github.com/Quentin-dev937/Capstone-Project/blob/master/Montreal_museum.png?raw=true)\n",
    "\n",
    "However, the neighborhood belonging to the cluster 2 (green one) have only one kind of museum.\n",
    "\n",
    "![alt text](https://github.com/Quentin-dev937/Capstone-Project/blob/master/Montreal_museum_1.png?raw=true)\n"
   ]
  },
  {
   "cell_type": "markdown",
   "metadata": {},
   "source": [
    "In the case of Paris, we can see that there is a lot more neighborhood with a museum. Like for Montreal, they are mainly located in the center of the city which correspond to the oldest neighborhoods. "
   ]
  },
  {
   "cell_type": "markdown",
   "metadata": {},
   "source": [
    "![alt text](https://github.com/Quentin-dev937/Capstone-Project/blob/master/Paris_museum.png?raw=true)"
   ]
  },
  {
   "cell_type": "markdown",
   "metadata": {},
   "source": [
    "The algorithm devided the neighborhoods containning a museum in 3 clusters. And there is a clear pattern. The two clusters in the center of Paris (green-number 2 and purple-number 1) are mostly connected to Museum or Art Museum where the cluster red-number 0 contain a wider range of kind of museum."
   ]
  },
  {
   "cell_type": "markdown",
   "metadata": {},
   "source": [
    "![alt text](https://github.com/Quentin-dev937/Capstone-Project/blob/master/Paris_museum_1.png?raw=true)"
   ]
  },
  {
   "cell_type": "markdown",
   "metadata": {},
   "source": [
    "#### 4.3 Looking at the Neighborhoods from Montreal and Paris that have Bar."
   ]
  },
  {
   "cell_type": "markdown",
   "metadata": {},
   "source": [
    "Bars are obviously present in a lot of neighborhood both in Montreal and Paris. The purpose of this reasearch is also to determine the kind of bar which can give more informations about the neighborhoods."
   ]
  },
  {
   "cell_type": "markdown",
   "metadata": {},
   "source": [
    "![alt text](https://github.com/Quentin-dev937/Capstone-Project/blob/master/Montreal_restau.png?raw=true)"
   ]
  },
  {
   "cell_type": "markdown",
   "metadata": {},
   "source": [
    "We can see that the bars are mainly located around the \"Plateau-Mont Royal\" and there is very different kind of bars."
   ]
  },
  {
   "cell_type": "markdown",
   "metadata": {},
   "source": [
    "![alt text](https://github.com/Quentin-dev937/Capstone-Project/blob/master/Montreal_restau_1.png?raw=true)"
   ]
  },
  {
   "cell_type": "markdown",
   "metadata": {},
   "source": [
    "For Paris, bars are located almost everywhere. How ever the bars in the center of Paris only belong to the green cluster."
   ]
  },
  {
   "cell_type": "markdown",
   "metadata": {},
   "source": [
    "![al text](https://github.com/Quentin-dev937/Capstone-Project/blob/master/Paris_bar.png?raw=true)"
   ]
  },
  {
   "cell_type": "markdown",
   "metadata": {},
   "source": [
    "There is only two main venues for this cluster, bar and Wine bar. "
   ]
  },
  {
   "cell_type": "markdown",
   "metadata": {},
   "source": [
    "![alt text](https://github.com/Quentin-dev937/Capstone-Project/blob/master/Paris_bar_1.png?raw=true)"
   ]
  },
  {
   "cell_type": "markdown",
   "metadata": {},
   "source": [
    "As we observed, the results are very different for Montreal and Paris according the Kmean algorithm and the chosen criterion. There is explanation to this tendencies."
   ]
  },
  {
   "cell_type": "markdown",
   "metadata": {},
   "source": [
    "### 5. Discussion"
   ]
  },
  {
   "cell_type": "markdown",
   "metadata": {},
   "source": [
    "#### Concerning the museum"
   ]
  },
  {
   "cell_type": "markdown",
   "metadata": {},
   "source": [
    "As an older city than Montreal, Paris also has a longer history than Montreal which can explain the difference in number of Museum across the cities.\n",
    "For both cities, most of the museum are located in the downtown or in the old center."
   ]
  },
  {
   "cell_type": "markdown",
   "metadata": {},
   "source": [
    "#### Concerning the bars"
   ]
  },
  {
   "cell_type": "markdown",
   "metadata": {},
   "source": [
    "For Paris, the bars are in every neighborhood of the city. Although this part of the \"french culture\" is well represented, the range of the kind of bars is pretty narrow.\n",
    "For Montreal, majority of the bars are located around the \"PLateau-Mont-Royal\", the kind of bars is pretty diverse."
   ]
  },
  {
   "cell_type": "markdown",
   "metadata": {},
   "source": [
    "### 6. Conclusion"
   ]
  },
  {
   "cell_type": "markdown",
   "metadata": {},
   "source": [
    "Altough both Montreal and Paris are well known for being \"cultural places\", they differe a lot. \n",
    "\n",
    "Paris possess a lot more Museum and most of the tourism industry gravitate around them, all along with wine bars or french restaurant mainly located in the center (i.e. the most touristic places).\n",
    "\n",
    "\n",
    "Montreal seems to posses a very different kind of tourism industry, less related to the Museum than Paris and much more connected to the cultural diversity. "
   ]
  },
  {
   "cell_type": "markdown",
   "metadata": {},
   "source": [
    "As a final line, only two criterion were used to compare the cities of Montreal and Paris which is very few. Other criterion could be added to this study in order to have a better comparison."
   ]
  },
  {
   "cell_type": "markdown",
   "metadata": {},
   "source": [
    "Regards, \n",
    "\n",
    "Quentin"
   ]
  },
  {
   "cell_type": "code",
   "execution_count": null,
   "metadata": {},
   "outputs": [],
   "source": []
  }
 ],
 "metadata": {
  "kernelspec": {
   "display_name": "Python 3",
   "language": "python",
   "name": "python3"
  },
  "language_info": {
   "codemirror_mode": {
    "name": "ipython",
    "version": 3
   },
   "file_extension": ".py",
   "mimetype": "text/x-python",
   "name": "python",
   "nbconvert_exporter": "python",
   "pygments_lexer": "ipython3",
   "version": "3.7.4"
  }
 },
 "nbformat": 4,
 "nbformat_minor": 2
}
