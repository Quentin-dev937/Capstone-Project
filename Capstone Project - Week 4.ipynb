{
 "cells": [
  {
   "cell_type": "markdown",
   "metadata": {},
   "source": [
    "## Introduction \n"
   ]
  },
  {
   "cell_type": "markdown",
   "metadata": {},
   "source": [
    "###  Introduction and discussion background"
   ]
  },
  {
   "cell_type": "markdown",
   "metadata": {},
   "source": [
    "In this project, I try to compare two cities which are Paris and Montreal. \n",
    "Both of those cities have a troumendous cultural background, and where Paris is the capital and main city of France, Montreal is the largest city of Quebec and its \"cultural capital\".\n",
    "\n",
    "In order to get a good understanding of the dynamics and the structure of the two cities, a comparison between the neighborhood and what each of them provide is a good start.\n",
    "\n",
    "Thinking of the business outcome, the results can get an interess from touristic compagnies that would like to refine their data. Their can be also an interess from sociological and history department from universities."
   ]
  },
  {
   "cell_type": "markdown",
   "metadata": {},
   "source": [
    "### Data description"
   ]
  },
  {
   "cell_type": "markdown",
   "metadata": {},
   "source": [
    "In order to complete this project, the following data comes from:\n",
    "\n",
    "- open data Paris & portail données ouvertes Montreal, which are websites that contain official datas of the boroughs and the neighborhood of Paris and Montreal. The data are mainly to get the name of the borough and the neighborhood. They contain also some additional features such as area or perimeters.\n",
    "\n",
    "\n",
    "- wikipedia to obtain complementary informations about the neighborhoods such as area or density population.\n",
    "\n",
    "\n",
    "- FourSquare to get the venues for the each neighborhood of the two cities.\n",
    "\n"
   ]
  },
  {
   "cell_type": "code",
   "execution_count": null,
   "metadata": {},
   "outputs": [],
   "source": []
  }
 ],
 "metadata": {
  "kernelspec": {
   "display_name": "Python 3",
   "language": "python",
   "name": "python3"
  },
  "language_info": {
   "codemirror_mode": {
    "name": "ipython",
    "version": 3
   },
   "file_extension": ".py",
   "mimetype": "text/x-python",
   "name": "python",
   "nbconvert_exporter": "python",
   "pygments_lexer": "ipython3",
   "version": "3.7.4"
  }
 },
 "nbformat": 4,
 "nbformat_minor": 2
}
